{
 "cells": [
  {
   "cell_type": "markdown",
   "metadata": {},
   "source": [
    "# K-Nearest Neighbor (k-NN) K近邻法\n",
    "### A type of lazy learning"
   ]
  },
  {
   "cell_type": "markdown",
   "metadata": {},
   "source": [
    "## Overview"
   ]
  },
  {
   "cell_type": "markdown",
   "metadata": {},
   "source": [
    "k-NN算法是一种简单，直观的分类与回归方法，这里主要讲述k-NN在分类问题中的运用。    \n",
    "这是一个没有很明显的学习过程的机器学习算法，相应的，它利用了训练集对特征向量空间进行了划分，从而达到分类的目的。    \n",
    "它的核心原理为：**给定一个训练数据集，对于新的输入实例，在训练数据集中找到与该实例距离最近的k个实例，这k个实例的多数属于某个类别，就把该输入实例分为这个类别。**    \n",
    "简单来说，k-NN算法实现的就是一个物以类聚的效果，即对于每个分类样本类别的选择由距离此样本最近的k个样本的类别而决定。"
   ]
  },
  {
   "cell_type": "markdown",
   "metadata": {},
   "source": [
    "## Explain"
   ]
  },
  {
   "cell_type": "markdown",
   "metadata": {},
   "source": [
    "从k-NN算法的原理不难看出，此模型具有三个基本要素：**距离的测量**，**k值的选择**和**分类决策的规则**。下面会对这三个要素分别进行一下分析和理解："
   ]
  },
  {
   "cell_type": "markdown",
   "metadata": {},
   "source": [
    "**距离的测量**：距离，在k-NN算法中反映了实例之间的相似程度。通常习惯使用Euclidean Distance（欧氏距离），当然也可以用Minkowski Distance，Manhattan Distance等距离计算方式。一个通用公式为：$$L_p(x_i, x_j) = (\\sum_{l=1}^{n}{\\vert{x_i^{(l)} - x_j^{(l)}}\\vert}^p)^\\frac{1}{p}$$   其中， \n",
    "$$L_p(x_i, x_j):两点之间的距离$$\n",
    "$$x_i = (x_i^{(1)}, x_i^{(2)}, x_i^{(3)}, ..., x_i^{(n)})^T$$\n",
    "$$x_j = (x_j^{(1)}, x_j^{(2)}, x_j^{(3)}, ..., x_j^{(n)})^T$$\n",
    "$$p: p\\geq1; 当p=1时，即为Manhattan Distance；当p=2时，即为Euclidean Distance$$"
   ]
  },
  {
   "cell_type": "markdown",
   "metadata": {},
   "source": [
    "**k值的选择**：k值代表着最终参与决策的实例的个数， 它的选择会对k-NN的结果产生重大的影响。    \n",
    "如果选择了过小的k值，近似误差（approximation error）会减小，但是估计误差（estimation error）会增大。其实很好理解，假设使用极端情况，k=1（1-NN算法也叫最近邻算法），那么每次分类的结果便是离的最近的实例的类别。在此情况下，如果恰好离得最近的实例是噪声的话，那么预测的结果便是错误的。换句话说，由于k的选值过小，整个样本空间会被分割的更细，从而导致模型变复杂出现过拟合。    \n",
    "相应的，选择了过大的k值，估计误差便会减小，但是近似误差则会增大，因为此时对样本空间分割的过于粗糙，模型过于简单，使得一些不相似的实例也参与进了最终决策，从而导致预测错误。   \n",
    "那么究竟该如何选取k值呢？一般来说，要找一个较小的数。这个问题有各种各样的说法，比如优先取3，5，7，9等较小基数，还有说凭经验玄学的。其实，最科学的方法为交叉验证法，说白了，多试几个数，找到效果最好的即可。"
   ]
  },
  {
   "cell_type": "markdown",
   "metadata": {},
   "source": [
    "**分类决策的规则**：最后，确定了最后参与决策的实例之后，便是规定决策的规则了。一般来说，采用多数表决法，就是少数服从多数；这样其实做到了经验风险最小化。"
   ]
  },
  {
   "cell_type": "markdown",
   "metadata": {},
   "source": [
    "## Programming"
   ]
  },
  {
   "cell_type": "markdown",
   "metadata": {},
   "source": [
    "### k-NN法 - 鸢尾花分类模型"
   ]
  },
  {
   "cell_type": "markdown",
   "metadata": {},
   "source": [
    "这个模型的目的是为了检测一个鸢尾花具体的分类，共有三类：'Iris Setosa'或'Iris Versicolour'或'Iris Virginica'。该模型由k-NN算法实现。\n",
    "数据集来自UCI机器学习项目，可在此处下载：https://archive.ics.uci.edu/ml/datasets/iris"
   ]
  },
  {
   "cell_type": "markdown",
   "metadata": {},
   "source": [
    "#### Step 1:  Getting, understanding, and cleaning the dataset"
   ]
  },
  {
   "cell_type": "markdown",
   "metadata": {},
   "source": [
    "#### Importing the dataset"
   ]
  },
  {
   "cell_type": "code",
   "execution_count": 1,
   "metadata": {},
   "outputs": [
    {
     "data": {
      "text/html": [
       "<div>\n",
       "<style scoped>\n",
       "    .dataframe tbody tr th:only-of-type {\n",
       "        vertical-align: middle;\n",
       "    }\n",
       "\n",
       "    .dataframe tbody tr th {\n",
       "        vertical-align: top;\n",
       "    }\n",
       "\n",
       "    .dataframe thead th {\n",
       "        text-align: right;\n",
       "    }\n",
       "</style>\n",
       "<table border=\"1\" class=\"dataframe\">\n",
       "  <thead>\n",
       "    <tr style=\"text-align: right;\">\n",
       "      <th></th>\n",
       "      <th>sepal length[cm]</th>\n",
       "      <th>sepal width[cm]</th>\n",
       "      <th>petal length[cm]</th>\n",
       "      <th>petal width</th>\n",
       "      <th>label</th>\n",
       "    </tr>\n",
       "  </thead>\n",
       "  <tbody>\n",
       "    <tr>\n",
       "      <td>0</td>\n",
       "      <td>5.1</td>\n",
       "      <td>3.5</td>\n",
       "      <td>1.4</td>\n",
       "      <td>0.2</td>\n",
       "      <td>Iris-setosa</td>\n",
       "    </tr>\n",
       "    <tr>\n",
       "      <td>1</td>\n",
       "      <td>4.9</td>\n",
       "      <td>3.0</td>\n",
       "      <td>1.4</td>\n",
       "      <td>0.2</td>\n",
       "      <td>Iris-setosa</td>\n",
       "    </tr>\n",
       "    <tr>\n",
       "      <td>2</td>\n",
       "      <td>4.7</td>\n",
       "      <td>3.2</td>\n",
       "      <td>1.3</td>\n",
       "      <td>0.2</td>\n",
       "      <td>Iris-setosa</td>\n",
       "    </tr>\n",
       "    <tr>\n",
       "      <td>3</td>\n",
       "      <td>4.6</td>\n",
       "      <td>3.1</td>\n",
       "      <td>1.5</td>\n",
       "      <td>0.2</td>\n",
       "      <td>Iris-setosa</td>\n",
       "    </tr>\n",
       "    <tr>\n",
       "      <td>4</td>\n",
       "      <td>5.0</td>\n",
       "      <td>3.6</td>\n",
       "      <td>1.4</td>\n",
       "      <td>0.2</td>\n",
       "      <td>Iris-setosa</td>\n",
       "    </tr>\n",
       "  </tbody>\n",
       "</table>\n",
       "</div>"
      ],
      "text/plain": [
       "   sepal length[cm]  sepal width[cm]  petal length[cm]  petal width  \\\n",
       "0               5.1              3.5               1.4          0.2   \n",
       "1               4.9              3.0               1.4          0.2   \n",
       "2               4.7              3.2               1.3          0.2   \n",
       "3               4.6              3.1               1.5          0.2   \n",
       "4               5.0              3.6               1.4          0.2   \n",
       "\n",
       "         label  \n",
       "0  Iris-setosa  \n",
       "1  Iris-setosa  \n",
       "2  Iris-setosa  \n",
       "3  Iris-setosa  \n",
       "4  Iris-setosa  "
      ]
     },
     "execution_count": 1,
     "metadata": {},
     "output_type": "execute_result"
    }
   ],
   "source": [
    "import matplotlib.pyplot as plt # plotting utilities \n",
    "%matplotlib inline\n",
    "import numpy as np \n",
    "import math\n",
    "import operator\n",
    "from collections import Counter\n",
    "import pandas as pd  # To read in the dataset we will use the Panda's library\n",
    "df = pd.read_csv('iris.csv', header=None, names = [\"sepal length[cm]\",\"sepal width[cm]\",\"petal length[cm]\", \"petal width\", \"label\"])\n",
    "\n",
    "# Next we observe the first 5 rows of the data to ensure everything was read correctly\n",
    "df.head()"
   ]
  },
  {
   "cell_type": "markdown",
   "metadata": {},
   "source": [
    "#### Data Preproccessing\n",
    "为了方便处理，我们将Iris-setosa的label设为0， Iris-versicolor设为1，Iris-virginica设为2。同时，这里只使用了两个feature以简化代码过程，有兴趣的可以把所有feature都用上。"
   ]
  },
  {
   "cell_type": "code",
   "execution_count": 2,
   "metadata": {},
   "outputs": [
    {
     "data": {
      "text/html": [
       "<div>\n",
       "<style scoped>\n",
       "    .dataframe tbody tr th:only-of-type {\n",
       "        vertical-align: middle;\n",
       "    }\n",
       "\n",
       "    .dataframe tbody tr th {\n",
       "        vertical-align: top;\n",
       "    }\n",
       "\n",
       "    .dataframe thead th {\n",
       "        text-align: right;\n",
       "    }\n",
       "</style>\n",
       "<table border=\"1\" class=\"dataframe\">\n",
       "  <thead>\n",
       "    <tr style=\"text-align: right;\">\n",
       "      <th></th>\n",
       "      <th>sepal length[cm]</th>\n",
       "      <th>sepal width[cm]</th>\n",
       "      <th>petal length[cm]</th>\n",
       "      <th>petal width</th>\n",
       "      <th>label</th>\n",
       "    </tr>\n",
       "  </thead>\n",
       "  <tbody>\n",
       "    <tr>\n",
       "      <td>0</td>\n",
       "      <td>5.1</td>\n",
       "      <td>3.5</td>\n",
       "      <td>1.4</td>\n",
       "      <td>0.2</td>\n",
       "      <td>0</td>\n",
       "    </tr>\n",
       "    <tr>\n",
       "      <td>1</td>\n",
       "      <td>4.9</td>\n",
       "      <td>3.0</td>\n",
       "      <td>1.4</td>\n",
       "      <td>0.2</td>\n",
       "      <td>0</td>\n",
       "    </tr>\n",
       "    <tr>\n",
       "      <td>2</td>\n",
       "      <td>4.7</td>\n",
       "      <td>3.2</td>\n",
       "      <td>1.3</td>\n",
       "      <td>0.2</td>\n",
       "      <td>0</td>\n",
       "    </tr>\n",
       "    <tr>\n",
       "      <td>3</td>\n",
       "      <td>4.6</td>\n",
       "      <td>3.1</td>\n",
       "      <td>1.5</td>\n",
       "      <td>0.2</td>\n",
       "      <td>0</td>\n",
       "    </tr>\n",
       "    <tr>\n",
       "      <td>4</td>\n",
       "      <td>5.0</td>\n",
       "      <td>3.6</td>\n",
       "      <td>1.4</td>\n",
       "      <td>0.2</td>\n",
       "      <td>0</td>\n",
       "    </tr>\n",
       "  </tbody>\n",
       "</table>\n",
       "</div>"
      ],
      "text/plain": [
       "   sepal length[cm]  sepal width[cm]  petal length[cm]  petal width  label\n",
       "0               5.1              3.5               1.4          0.2      0\n",
       "1               4.9              3.0               1.4          0.2      0\n",
       "2               4.7              3.2               1.3          0.2      0\n",
       "3               4.6              3.1               1.5          0.2      0\n",
       "4               5.0              3.6               1.4          0.2      0"
      ]
     },
     "execution_count": 2,
     "metadata": {},
     "output_type": "execute_result"
    }
   ],
   "source": [
    "df['label'] = df.label.map({'Iris-setosa': 0,\n",
    "              'Iris-versicolor': 1,\n",
    "              'Iris-virginica': 2})\n",
    "df.head()# Again, lets observe the first 5 rows to make sure everything worked before we continue"
   ]
  },
  {
   "cell_type": "code",
   "execution_count": 3,
   "metadata": {},
   "outputs": [
    {
     "name": "stdout",
     "output_type": "stream",
     "text": [
      "The number of training examples:  112\n",
      "The number of test exampels:  38\n",
      "The first four training labels\n",
      "[1 1 2 0]\n",
      "The first four iris' measurements\n",
      "[[5.8 2.4]\n",
      " [6.  1. ]\n",
      " [5.5 0.2]\n",
      " [7.3 1.8]]\n"
     ]
    }
   ],
   "source": [
    "from sklearn.model_selection import train_test_split\n",
    "names = [\"sepal length[cm]\",\"petal width\"]\n",
    "#After completing the assignment, try your code with all the features\n",
    "#names = [\"sepal length[cm]\",\"sepal width[cm]\",\"petal length[cm]\", \"petal width\"]\n",
    "df_X_train, df_X_test, df_y_train, df_y_test = train_test_split(df[names],df['label'], random_state=0)\n",
    "\n",
    "X_train=df_X_train.to_numpy()\n",
    "X_test=df_X_test.to_numpy()\n",
    "y_train=df_y_train.to_numpy()\n",
    "y_test=df_y_test.to_numpy()\n",
    "\n",
    "#Looking at the train/test split\n",
    "print(\"The number of training examples: \", X_train.shape[0])\n",
    "print(\"The number of test exampels: \", X_test.shape[0])\n",
    "\n",
    "print(\"The first four training labels\")\n",
    "print(y_train[0:4])\n",
    "\n",
    "print(\"The first four iris' measurements\")\n",
    "print(X_test[0:4])"
   ]
  },
  {
   "cell_type": "markdown",
   "metadata": {},
   "source": [
    "#### Visualizing the data set\n",
    "\n",
    "来看一下目前数据的分布情况。"
   ]
  },
  {
   "cell_type": "code",
   "execution_count": 4,
   "metadata": {},
   "outputs": [
    {
     "data": {
      "image/png": "[encoded data removed]",
      "text/plain": [
       "<Figure size 432x288 with 1 Axes>"
      ]
     },
     "metadata": {
      "needs_background": "light"
     },
     "output_type": "display_data"
    }
   ],
   "source": [
    "iris_names=['Iris-setosa','Iris-versicolor','Iris-virginica']\n",
    "for i in range(0,3):\n",
    "    plt.scatter(X_train[y_train == i, 0],\n",
    "                X_train[y_train == i, 1],\n",
    "            marker='o',\n",
    "            label='class '+ str(i)+ ' '+ iris_names[i])\n",
    "\n",
    "plt.xlabel('sepal width[cm]')\n",
    "plt.ylabel('petal length[cm]')\n",
    "plt.legend(loc='lower right')\n",
    "\n",
    "plt.show()"
   ]
  },
  {
   "cell_type": "markdown",
   "metadata": {},
   "source": [
    "#### Step 2: Implementing the algorithm and training the model"
   ]
  },
  {
   "cell_type": "code",
   "execution_count": 5,
   "metadata": {},
   "outputs": [],
   "source": [
    "# Distance \n",
    "def euclidean_distance(x1, x2):\n",
    "    distance = 0\n",
    "    length = len(X_test[0])\n",
    "    \n",
    "    for i in range(length):\n",
    "        distance += pow((x1[i] - x2[i]), 2)\n",
    "        \n",
    "    return math.sqrt(distance)"
   ]
  },
  {
   "cell_type": "code",
   "execution_count": 6,
   "metadata": {},
   "outputs": [],
   "source": [
    "# Find k neighbors\n",
    "def get_neighbors( X_train, y_train, x_test, k, distance):\n",
    "    distance_set = []\n",
    "    neighbors = []\n",
    "    \n",
    "    for i in range(len(X_train)):\n",
    "        dist = distance(x_test, X_train[i])\n",
    "        distance_set.append((X_train[i], dist, y_train[i]))\n",
    "\n",
    "    distance_set.sort(key=operator.itemgetter(1, 2))\n",
    "    #print(distance_set)\n",
    "    \n",
    "    for i in range(k):\n",
    "        neighbors.append(distance_set[i][2])\n",
    "    \n",
    "    return neighbors"
   ]
  },
  {
   "cell_type": "code",
   "execution_count": 7,
   "metadata": {},
   "outputs": [],
   "source": [
    "# Do majority voting\n",
    "def majority_vote(neighbors):\n",
    "    votes = {}\n",
    "    for i in neighbors:\n",
    "        if i in votes:\n",
    "            votes[i] += 1\n",
    "        else:\n",
    "            votes[i] = 1\n",
    "    \n",
    "    return max(votes.items(), key=operator.itemgetter(1))[0]"
   ]
  },
  {
   "cell_type": "code",
   "execution_count": 8,
   "metadata": {},
   "outputs": [],
   "source": [
    "def knn_prediction(X_test, X_train, y_train, k, distance):\n",
    "    predictions = []\n",
    "    for i in range(len(X_test)):\n",
    "        neighbors = get_neighbors(X_train, y_train, X_test[i], k, distance)\n",
    "        vote = majority_vote(neighbors)\n",
    "        predictions.append(vote)\n",
    "    return predictions"
   ]
  },
  {
   "cell_type": "code",
   "execution_count": 9,
   "metadata": {},
   "outputs": [],
   "source": [
    "def get_accuracy(y_test, predictions):\n",
    "    correct = 0.0\n",
    "    incorrect= []\n",
    "    \n",
    "    for i in range(len(y_test)):\n",
    "        if y_test[i] == predictions[i]:\n",
    "            correct += 1\n",
    "        else:\n",
    "            incorrect.append(i) \n",
    "            \n",
    "    return correct / float(len(y_test)), incorrect"
   ]
  },
  {
   "cell_type": "markdown",
   "metadata": {},
   "source": [
    "以上，便是k-NN算法的实现了，下面来选取几个不同的k值来比较一下预测结果。"
   ]
  },
  {
   "cell_type": "code",
   "execution_count": 11,
   "metadata": {},
   "outputs": [
    {
     "name": "stdout",
     "output_type": "stream",
     "text": [
      "0.9473684210526315\n",
      "[10, 16]\n"
     ]
    }
   ],
   "source": [
    "# K = 1\n",
    "k1_prediction = knn_prediction(X_test, X_train, y_train, 1, euclidean_distance)\n",
    "k1_accuracy = get_accuracy(y_test, k1_prediction)[0]\n",
    "k1_classified = get_accuracy(y_test, k1_prediction)[1]\n",
    "print(k1_accuracy)\n",
    "# Wrong classified data\n",
    "print(k1_classified) "
   ]
  },
  {
   "cell_type": "code",
   "execution_count": 12,
   "metadata": {},
   "outputs": [
    {
     "name": "stdout",
     "output_type": "stream",
     "text": [
      "0.9736842105263158\n",
      "[10]\n"
     ]
    }
   ],
   "source": [
    "# K = 3\n",
    "k3_prediction = knn_prediction(X_test, X_train, y_train, 3, euclidean_distance)\n",
    "k3_accuracy = get_accuracy(y_test, k3_prediction)[0]\n",
    "k3_classified = get_accuracy(y_test, k3_prediction)[1]\n",
    "print(k3_accuracy)\n",
    "print(k3_classified) "
   ]
  },
  {
   "cell_type": "code",
   "execution_count": 13,
   "metadata": {},
   "outputs": [
    {
     "name": "stdout",
     "output_type": "stream",
     "text": [
      "0.9736842105263158\n",
      "[10]\n"
     ]
    }
   ],
   "source": [
    "# K = 5\n",
    "k5_prediction = knn_prediction(X_test, X_train, y_train, 5, euclidean_distance)\n",
    "k5_accuracy = get_accuracy(y_test, k5_prediction)[0]\n",
    "k5_classified = get_accuracy(y_test, k5_prediction)[1]\n",
    "print(k5_accuracy)\n",
    "print(k5_classified)"
   ]
  },
  {
   "cell_type": "markdown",
   "metadata": {},
   "source": [
    "可以看出，当k = 1时，错误分类了两个数据10和16号。当选取k = 3或5时，准确率提升至97.4%。那便可以认为k取3或者5都可以收到一个不错的模型。"
   ]
  },
  {
   "cell_type": "markdown",
   "metadata": {},
   "source": [
    "另外，这里实验一下采取不同的距离公式时产生的不同结果，以曼哈顿距离(Manhattan Distance)为例。"
   ]
  },
  {
   "cell_type": "code",
   "execution_count": 14,
   "metadata": {},
   "outputs": [
    {
     "name": "stdout",
     "output_type": "stream",
     "text": [
      "k1:  0.631578947368421\n",
      "k3:  0.5526315789473685\n",
      "k5:  0.6052631578947368\n"
     ]
    }
   ],
   "source": [
    "# Manhattan Distance\n",
    "def manhattan_distance(x1, x2):\n",
    "    distance = 0\n",
    "    length = len(X_test[0]) - 1\n",
    "    \n",
    "    for i in range(length):\n",
    "        distance += abs(x1[i] - x2[i])\n",
    "        \n",
    "    return distance\n",
    "\n",
    "# K = 1\n",
    "k1manhattan_prediction = knn_prediction(X_test, X_train, y_train, 1, manhattan_distance)\n",
    "k1manhattan_accuracy = get_accuracy(y_test, k1manhattan_prediction)[0]\n",
    "print(\"k1: \", k1manhattan_accuracy)\n",
    "\n",
    "# K = 3\n",
    "k3manhattan_prediction = knn_prediction(X_test, X_train, y_train, 3, manhattan_distance)\n",
    "k3manhattan_accuracy = get_accuracy(y_test, k3manhattan_prediction)[0]\n",
    "print(\"k3: \", k3manhattan_accuracy)\n",
    "\n",
    "# K = 5\n",
    "k5manhattan_prediction = knn_prediction(X_test, X_train, y_train, 5, manhattan_distance)\n",
    "k5manhattan_accuracy = get_accuracy(y_test, k5manhattan_prediction)[0]\n",
    "print(\"k5: \", k5manhattan_accuracy) "
   ]
  },
  {
   "cell_type": "markdown",
   "metadata": {},
   "source": [
    "可以看出，曼哈顿距离得到的准确率远远不如欧氏距离。所以，一般情况下，k-NN模型的距离都由欧氏距离来计算。"
   ]
  },
  {
   "cell_type": "markdown",
   "metadata": {},
   "source": [
    "#### Step 3: Using build-in library\n",
    "其实Sklearn库里已经包含了k-NN的实现方法，可以直接拿来用，方法如下："
   ]
  },
  {
   "cell_type": "code",
   "execution_count": 20,
   "metadata": {},
   "outputs": [],
   "source": [
    "from sklearn.neighbors import KNeighborsClassifier\n",
    "from sklearn import metrics\n",
    "\n",
    "# Try a loop to go through different K value\n",
    "k_range = range(1, 10)\n",
    "scores = {}\n",
    "score_list = []\n",
    "\n",
    "for k in k_range:\n",
    "    knn = KNeighborsClassifier(n_neighbors = k, metric = 'euclidean')\n",
    "    knn.fit(X_train, y_train)\n",
    "    y_pred = knn.predict(X_test)\n",
    "    \n",
    "    scores[k] = metrics.accuracy_score(y_test, y_pred)\n",
    "    score_list.append(metrics.accuracy_score(y_test, y_pred))"
   ]
  },
  {
   "cell_type": "code",
   "execution_count": 21,
   "metadata": {},
   "outputs": [
    {
     "name": "stdout",
     "output_type": "stream",
     "text": [
      "0.9736842105263158\n"
     ]
    },
    {
     "data": {
      "image/png": "[encoded data removed]",
      "text/plain": [
       "<Figure size 432x288 with 1 Axes>"
      ]
     },
     "metadata": {
      "needs_background": "light"
     },
     "output_type": "display_data"
    }
   ],
   "source": [
    "plt.plot(k_range, score_list)\n",
    "plt.xlabel(\"k value\")\n",
    "plt.ylabel(\"accuracy\")\n",
    "\n",
    "print(max(score_list))"
   ]
  },
  {
   "cell_type": "markdown",
   "metadata": {},
   "source": [
    "通过这个方法，便简单明了的看出，当k = 3时准确率就达到了最高点，所以k取3即可。"
   ]
  },
  {
   "cell_type": "markdown",
   "metadata": {},
   "source": [
    "## Conclusion"
   ]
  },
  {
   "cell_type": "markdown",
   "metadata": {},
   "source": [
    "本文简单介绍了什么是k-NN模型，并且通过一个经典的小项目展示了其实现的方法。近些年，k-NN算法有了一些拓展的使用，比如和DNN结合使用的Deep k-NN等。如果感兴趣，可以深入学习一番。\n",
    "\n",
    "In the end, thanks for reading and let me know your suggestions/corrections if any.\n",
    "\n",
    "Bye~"
   ]
  },
  {
   "cell_type": "code",
   "execution_count": null,
   "metadata": {},
   "outputs": [],
   "source": []
  }
 ],
 "metadata": {
  "kernelspec": {
   "display_name": "Python 3",
   "language": "python",
   "name": "python3"
  },
  "language_info": {
   "codemirror_mode": {
    "name": "ipython",
    "version": 3
   },
   "file_extension": ".py",
   "mimetype": "text/x-python",
   "name": "python",
   "nbconvert_exporter": "python",
   "pygments_lexer": "ipython3",
   "version": "3.7.4"
  }
 },
 "nbformat": 4,
 "nbformat_minor": 2
}
